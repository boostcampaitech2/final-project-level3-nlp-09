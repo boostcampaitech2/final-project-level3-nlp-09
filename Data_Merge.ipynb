{
 "cells": [
  {
   "cell_type": "code",
   "execution_count": 1,
   "metadata": {},
   "outputs": [],
   "source": [
    "import json\n",
    "import pandas as pd\n",
    "import os\n",
    "\n",
    "data_path = '/opt/ml/data'\n",
    "AIHUB = 'ko_wiki_v1_squad.json'\n",
    "KLUE_TRAIN = 'klue-mrc-v1.1_train.json'\n",
    "KLUE_VALID = 'klue-mrc-v1.1_dev.json'\n",
    "KORQUAD_TRAIN = 'KorQuAD_v1.0_train.json'\n",
    "KORQUAD_VALID = 'KorQuAD_v1.0_dev.json'\n",
    "\n",
    "with open(os.path.join(data_path, AIHUB), 'rb') as f:\n",
    "    aihub = json.load(f)\n",
    "aihub = aihub['data']\n",
    "\n",
    "with open(os.path.join(data_path, KLUE_TRAIN), 'rb') as f:\n",
    "    klue_train = json.load(f)\n",
    "klue_train = klue_train['data']\n",
    "\n",
    "with open(os.path.join(data_path, KLUE_VALID), 'rb') as f:\n",
    "    klue_valid = json.load(f)\n",
    "klue_valid = klue_valid['data']\n",
    "\n",
    "with open(os.path.join(data_path, KORQUAD_TRAIN), 'rb') as f:\n",
    "    korquad_train = json.load(f)\n",
    "korquad_train = korquad_train['data']\n",
    "\n",
    "with open(os.path.join(data_path, KORQUAD_VALID), 'rb') as f:\n",
    "    korquad_valid = json.load(f)\n",
    "korquad_valid = korquad_valid['data']\n"
   ]
  },
  {
   "cell_type": "code",
   "execution_count": 24,
   "metadata": {},
   "outputs": [
    {
     "data": {
      "text/plain": [
       "[{'question': '흙을 복구하는데 나쁜 영향을 끼치는 요소는?',\n",
       "  'answers': [],\n",
       "  'plausible_answers': [{'text': '질소', 'answer_start': 353}],\n",
       "  'question_type': 3,\n",
       "  'is_impossible': True,\n",
       "  'guid': 'klue-mrc-v1_train_02464'},\n",
       " {'question': '미국 전역에서 생산되는 콩 중 아이오와주가 차지하는 비율은?',\n",
       "  'answers': [],\n",
       "  'plausible_answers': [{'text': '대략 5분의 1', 'answer_start': 96},\n",
       "   {'text': '5분의 1', 'answer_start': 99}],\n",
       "  'question_type': 3,\n",
       "  'is_impossible': True,\n",
       "  'guid': 'klue-mrc-v1_train_05101'},\n",
       " {'question': '아이오와 주는 미국 내 옥수수 재배량의 대략 얼마를 점유하는가?',\n",
       "  'answers': [{'text': '5분의 1', 'answer_start': 99}],\n",
       "  'question_type': 1,\n",
       "  'is_impossible': False,\n",
       "  'guid': 'klue-mrc-v1_train_04125'},\n",
       " {'question': '콩은 옥수수와 달리 어떤 용도로도 쓰이는가?',\n",
       "  'answers': [{'text': '기름을 만드는 데', 'answer_start': 207},\n",
       "   {'text': '기름을 만드는', 'answer_start': 207}],\n",
       "  'question_type': 2,\n",
       "  'is_impossible': False,\n",
       "  'guid': 'klue-mrc-v1_train_05055'}]"
      ]
     },
     "execution_count": 24,
     "metadata": {},
     "output_type": "execute_result"
    }
   ],
   "source": [
    "klue_train[1000]['paragraphs'][0]['qas']"
   ]
  },
  {
   "cell_type": "code",
   "execution_count": 21,
   "metadata": {},
   "outputs": [],
   "source": [
    "whole_q = 0\n",
    "no_answer=0\n",
    "for item in klue_train:\n",
    "    x = item['paragraphs']\n",
    "    for sub_item in x:\n",
    "        y = sub_item['qas']\n",
    "        for qa in y:\n",
    "            whole_q+=1\n",
    "            if qa['is_impossible']:\n",
    "                no_answer+=1"
   ]
  },
  {
   "cell_type": "code",
   "execution_count": 20,
   "metadata": {},
   "outputs": [
    {
     "data": {
      "text/plain": [
       "5517"
      ]
     },
     "execution_count": 20,
     "metadata": {},
     "output_type": "execute_result"
    }
   ],
   "source": []
  },
  {
   "cell_type": "code",
   "execution_count": 22,
   "metadata": {},
   "outputs": [
    {
     "data": {
      "text/plain": [
       "17554"
      ]
     },
     "execution_count": 22,
     "metadata": {},
     "output_type": "execute_result"
    }
   ],
   "source": []
  },
  {
   "cell_type": "code",
   "execution_count": null,
   "metadata": {},
   "outputs": [],
   "source": []
  }
 ],
 "metadata": {
  "interpreter": {
   "hash": "d4d1e4263499bec80672ea0156c357c1ee493ec2b1c70f0acce89fc37c4a6abe"
  },
  "kernelspec": {
   "display_name": "Python 3.8.5 64-bit ('base': conda)",
   "language": "python",
   "name": "python3"
  },
  "language_info": {
   "codemirror_mode": {
    "name": "ipython",
    "version": 3
   },
   "file_extension": ".py",
   "mimetype": "text/x-python",
   "name": "python",
   "nbconvert_exporter": "python",
   "pygments_lexer": "ipython3",
   "version": "3.8.5"
  },
  "orig_nbformat": 4
 },
 "nbformat": 4,
 "nbformat_minor": 2
}
