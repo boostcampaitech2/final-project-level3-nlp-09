{
 "cells": [
  {
   "cell_type": "code",
   "execution_count": 4,
   "metadata": {},
   "outputs": [],
   "source": [
    "import pandas as pd\n",
    "import numpy as np\n",
    "import matplotlib.pyplot as plt\n",
    "from tqdm import tqdm\n"
   ]
  },
  {
   "cell_type": "code",
   "execution_count": 25,
   "metadata": {},
   "outputs": [
    {
     "name": "stdout",
     "output_type": "stream",
     "text": [
      "                                question  answer  \\\n",
      "0               이란과 아프가니스탄이 같은 언어를 말하는가?    True   \n",
      "1  좋은 사마리아인 법을 사고로 도와주는 사람들을 보호할 수 있을까요?    True   \n",
      "2                      유리창 제조업체 중 하나인가요?    True   \n",
      "3                 설탕은 분말 설탕과 똑같은 것이 있나요?    True   \n",
      "4           온라인에서 오래된 스카이림과 같은 스크롤이 있나요?   False   \n",
      "\n",
      "                                             passage  \n",
      "0  익명의 파르시(Farsi)로도 알려진 페르시아어(Fersi Forsisi)는 인도-...  \n",
      "1  좋은 사마리아인 법은 합리적인 도움을 주거나 자신이 믿는 사람, 부상, 병이 있거나...  \n",
      "2  윈도우 영화관(옛날 윈도우라이브 영화 '윈도우' 7호)은 마이크로소프트가 중단한 영...  \n",
      "3  과자의 설탕이라고도 불리는 밀가루 설탕, 설탕 얼리기, 아이스케이크 등은 분말 상태...  \n",
      "4  노인 스크롤 시리즈에서 다른 게임들과 마찬가지로 타미리엘의 대륙에서 경기가 펼쳐진다...  \n",
      "   Unnamed: 0 category context_name            question answer  \\\n",
      "0           0       과일            감         이것은 씨가 있나요?    NaN   \n",
      "1           1       과일            감         이것의 씨는 큰가요?    NaN   \n",
      "2           2       과일            감      이것은 나무에서 자라나요?   True   \n",
      "3           3       과일            감  이것을 부르는 다른 말이 있나요?   True   \n",
      "4           4       과일            감            이것은 단가요?   True   \n",
      "\n",
      "                                             passage  \n",
      "0  감(영어: persimmon)은 감나무속 나무에서 나는 과일이다. 단과(丹果)라고도...  \n",
      "1  감(영어: persimmon)은 감나무속 나무에서 나는 과일이다. 단과(丹果)라고도...  \n",
      "2  감(영어: persimmon)은 감나무속 나무에서 나는 과일이다. 단과(丹果)라고도...  \n",
      "3  감(영어: persimmon)은 감나무속 나무에서 나는 과일이다. 단과(丹果)라고도...  \n",
      "4  감(영어: persimmon)은 감나무속 나무에서 나는 과일이다. 단과(丹果)라고도...  \n"
     ]
    }
   ],
   "source": [
    "train_df= pd.read_csv('./data/trans_df_train.csv')\n",
    "dev_df= pd.read_csv('./data/trans_df_dev.csv')\n",
    "df= pd.read_csv('./data/trans_df_total.csv')\n",
    "\n",
    "inference_df= pd.read_csv('./data/inference_sample.csv')\n",
    "\n",
    "print(df.head())\n",
    "print(inference_df.head())"
   ]
  },
  {
   "cell_type": "code",
   "execution_count": 30,
   "metadata": {},
   "outputs": [
    {
     "name": "stdout",
     "output_type": "stream",
     "text": [
      "        question  passage\n",
      "answer                   \n",
      "False       3553     3553\n",
      "True        5874     5874\n",
      "        question  passage\n",
      "answer                   \n",
      "False       1237     1237\n",
      "True        2033     2033\n",
      "        question  passage   len\n",
      "answer                         \n",
      "False       4790     4790  4790\n",
      "True        7907     7907  7907\n"
     ]
    }
   ],
   "source": [
    "# train, dev data answer 분포\n",
    "print(train_df.groupby(train_df['answer']).count())\n",
    "print(dev_df.groupby(dev_df['answer']).count())\n",
    "print(df.groupby(df['answer']).count())\n"
   ]
  },
  {
   "cell_type": "code",
   "execution_count": 27,
   "metadata": {},
   "outputs": [
    {
     "name": "stdout",
     "output_type": "stream",
     "text": [
      "df passage mean length : 248.37323777270223\n",
      "df passage max length : 2220\n",
      "df passage min length : 19\n",
      "\n",
      "inference df passage mean length : 4138.333333333333\n",
      "inference df passage max length : 13550\n",
      "inference df passage min length : 781\n"
     ]
    }
   ],
   "source": [
    "# passage들의 길이 분석 -> 상대적으로 차이가 많이 나는 것을 볼 수 있음..!\n",
    "df['len']= df['passage'].apply(lambda x: len(x))\n",
    "print(f\"df passage mean length : {df['len'].mean()}\")\n",
    "print(f\"df passage max length : {df['len'].max()}\")\n",
    "print(f\"df passage min length : {df['len'].min()}\")\n",
    "print()\n",
    "\n",
    "inference_df['len']= inference_df['passage'].apply(lambda x: len(x))\n",
    "print(f\"inference df passage mean length : {inference_df['len'].mean()}\")\n",
    "print(f\"inference df passage max length : {inference_df['len'].max()}\")\n",
    "print(f\"inference df passage min length : {inference_df['len'].min()}\")\n"
   ]
  },
  {
   "cell_type": "markdown",
   "metadata": {},
   "source": [
    "\n",
    "### Discussion\n",
    "기존 boolq dataset의 answer는 True, False 밖에 없음.\n",
    "\n",
    "우리는 No answer에 대한 데이터도 생성을 해줘야 함! \n",
    "\n",
    "inference data와 비슷하게 구성을 하기 위해\n",
    "passage가 긴 문장 위주로 no answer data를 생성하고자 함."
   ]
  },
  {
   "cell_type": "code",
   "execution_count": 31,
   "metadata": {},
   "outputs": [
    {
     "data": {
      "text/plain": [
       "<BarContainer object of 500 artists>"
      ]
     },
     "execution_count": 31,
     "metadata": {},
     "output_type": "execute_result"
    },
    {
     "data": {
      "image/png": "[encoded data removed]",
      "text/plain": [
       "<Figure size 432x288 with 1 Axes>"
      ]
     },
     "metadata": {
      "needs_background": "light"
     },
     "output_type": "display_data"
    }
   ],
   "source": [
    "length= 500\n",
    "df= df.sort_values(by= 'len',ascending=False)\n",
    "plt.bar(np.arange(len(df))[:length], df['len'][:length])"
   ]
  },
  {
   "cell_type": "markdown",
   "metadata": {},
   "source": [
    "### Discussion\n",
    "no answer 데이터를 얼마나 생성해야하는지 고민을 하였음.\n",
    "\n",
    "사용자 입장에서 no answer라는 답변보다 yes, no라는 답을 내어 주는 것이 더 낫다고 생각해서 true, false data보다 작은 30% 이하의 데이터를 생성하기로 결정함.\n",
    "\n",
    "no answer data를 생성할 때 train, dev data에서 따로 뽑아 생성하였음.\n",
    "\n",
    "train에서 2500, dev에서 1000개의 문장 생성\n",
    "\n",
    "**생성하는데 사용한 방법**은 length 기준으로 sort한 다음에 한 passage에 대해 다른 passage의 question 5개를 mapping하여 no answer로 labeling하는 식으로 데이터를 생성하였음\n"
   ]
  },
  {
   "cell_type": "code",
   "execution_count": 37,
   "metadata": {},
   "outputs": [
    {
     "name": "stdout",
     "output_type": "stream",
     "text": [
      "Index(['question', 'answer', 'passage', 'len'], dtype='object')\n"
     ]
    },
    {
     "name": "stderr",
     "output_type": "stream",
     "text": [
      "100%|██████████| 500/500 [00:05<00:00, 89.52it/s]"
     ]
    },
    {
     "name": "stdout",
     "output_type": "stream",
     "text": [
      "                                      question     answer  \\\n",
      "0                          페니는 내 마음 밖에서 죽는 거야?  no answer   \n",
      "1                 작은 회색과 마크가 다시 한 번 만들어지는 건가요?  no answer   \n",
      "2     한 나무 언덕 에피소드 브루크에서 그녀가 임신했다는 것을 알게 되었나요?  no answer   \n",
      "3                    스테판이 시즌 6에서 인류를 되돌리는 건가요?  no answer   \n",
      "4                      에마는 한 번씩 사랑을 찾아볼 수 있을까?  no answer   \n",
      "...                                        ...        ...   \n",
      "2495                       이노베리의 호수가 실제 장소인가요?  no answer   \n",
      "2496                     새벽에는 또 한 번의 시즌이 있을까요?  no answer   \n",
      "2497                      시즌 5시즌이 지나면 새벽이 될까요?  no answer   \n",
      "2498                      책을 기반으로 한 우편물이 있습니까?  no answer   \n",
      "2499            제이크가 아니고 해적들이 아직 TV에 나오지 않았나요?  no answer   \n",
      "\n",
      "                                                passage  \n",
      "0     매 시즌 캐나다 최악의 운전자 11명이 운전기사 9명을 보유하고 있으며, 이 후에 ...  \n",
      "1     매 시즌 캐나다 최악의 운전자 11명이 운전기사 9명을 보유하고 있으며, 이 후에 ...  \n",
      "2     매 시즌 캐나다 최악의 운전자 11명이 운전기사 9명을 보유하고 있으며, 이 후에 ...  \n",
      "3     매 시즌 캐나다 최악의 운전자 11명이 운전기사 9명을 보유하고 있으며, 이 후에 ...  \n",
      "4     매 시즌 캐나다 최악의 운전자 11명이 운전기사 9명을 보유하고 있으며, 이 후에 ...  \n",
      "...                                                 ...  \n",
      "2495  히글은 이지로서의 활약에 대한 비판적인 호평을 받고 2007년 에미 어워드에서 '연...  \n",
      "2496  히글은 이지로서의 활약에 대한 비판적인 호평을 받고 2007년 에미 어워드에서 '연...  \n",
      "2497  히글은 이지로서의 활약에 대한 비판적인 호평을 받고 2007년 에미 어워드에서 '연...  \n",
      "2498  히글은 이지로서의 활약에 대한 비판적인 호평을 받고 2007년 에미 어워드에서 '연...  \n",
      "2499  히글은 이지로서의 활약에 대한 비판적인 호평을 받고 2007년 에미 어워드에서 '연...  \n",
      "\n",
      "[2500 rows x 3 columns]\n"
     ]
    },
    {
     "name": "stderr",
     "output_type": "stream",
     "text": [
      "\n"
     ]
    }
   ],
   "source": [
    "train_df= pd.read_csv('./data/trans_df_train.csv')\n",
    "train_df['len']= train_df['passage'].apply(lambda x: len(x))\n",
    "train_df= train_df.sort_values(by= 'len',ascending=False)\n",
    "\n",
    "no_ans_train_df= pd.DataFrame(columns= ['question', 'answer', 'passage'])\n",
    "\n",
    "print(train_df.columns)\n",
    "for i in tqdm(range(500)):\n",
    "    for j in range(1, 6):\n",
    "        new_data= {'question': train_df.iloc[i+j]['question'], 'passage': train_df.iloc[i]['passage'], 'answer': 'no answer'}\n",
    "        no_ans_train_df= no_ans_train_df.append(new_data, ignore_index= True)\n",
    "\n",
    "print(no_ans_train_df)\n",
    "no_ans_train_df.to_csv('./data/no_ans_df_train_2500.csv', index= False)"
   ]
  },
  {
   "cell_type": "code",
   "execution_count": 5,
   "metadata": {},
   "outputs": [
    {
     "name": "stdout",
     "output_type": "stream",
     "text": [
      "Index(['question', 'answer', 'passage', 'len'], dtype='object')\n"
     ]
    },
    {
     "name": "stderr",
     "output_type": "stream",
     "text": [
      "100%|██████████| 200/200 [00:02<00:00, 91.36it/s]"
     ]
    },
    {
     "name": "stdout",
     "output_type": "stream",
     "text": [
      "                          question     answer  \\\n",
      "0          다몬과 엘레나가 시즌 3에 모이는 건가요?  no answer   \n",
      "1     시즌 8에 집과 와디가 다시 한 번 만나는 건가요?  no answer   \n",
      "2           렉시와 마크가 다시 만나는 적이 있나요?  no answer   \n",
      "3           스테판이 시즌 6에 인류를 끊는 건가요?  no answer   \n",
      "4           스테판이 시즌 6에 인류를 끊는 건가요?  no answer   \n",
      "..                             ...        ...   \n",
      "995             대기압은 항상 1시에 해당하는가?  no answer   \n",
      "996            왕공이 원작 영화에서 죽는 건가요?  no answer   \n",
      "997              % 변화와 같은 차이가 있나요?  no answer   \n",
      "998  타일러는 과감하고 아름다운 모습으로 돌아가고 있나요?  no answer   \n",
      "999     단말기 10분의 1을 반복적으로 쓸 수 있을까?  no answer   \n",
      "\n",
      "                                               passage  \n",
      "0    19-28입니다. 해외 서비스 바 A 허가된 용병들 병사들은 미국 서비스의 한 회원...  \n",
      "1    19-28입니다. 해외 서비스 바 A 허가된 용병들 병사들은 미국 서비스의 한 회원...  \n",
      "2    19-28입니다. 해외 서비스 바 A 허가된 용병들 병사들은 미국 서비스의 한 회원...  \n",
      "3    19-28입니다. 해외 서비스 바 A 허가된 용병들 병사들은 미국 서비스의 한 회원...  \n",
      "4    19-28입니다. 해외 서비스 바 A 허가된 용병들 병사들은 미국 서비스의 한 회원...  \n",
      "..                                                 ...  \n",
      "995  때로는 바로미터 압력이라고도 불리는 대기압이 지구 분위기(또는 다른 행성의 압력) ...  \n",
      "996  때로는 바로미터 압력이라고도 불리는 대기압이 지구 분위기(또는 다른 행성의 압력) ...  \n",
      "997  때로는 바로미터 압력이라고도 불리는 대기압이 지구 분위기(또는 다른 행성의 압력) ...  \n",
      "998  때로는 바로미터 압력이라고도 불리는 대기압이 지구 분위기(또는 다른 행성의 압력) ...  \n",
      "999  때로는 바로미터 압력이라고도 불리는 대기압이 지구 분위기(또는 다른 행성의 압력) ...  \n",
      "\n",
      "[1000 rows x 3 columns]\n"
     ]
    },
    {
     "name": "stderr",
     "output_type": "stream",
     "text": [
      "\n"
     ]
    }
   ],
   "source": [
    "import pandas as pd\n",
    "\n",
    "dev_df= pd.read_csv('./data/trans_df_dev.csv')\n",
    "dev_df['len']= dev_df['passage'].apply(lambda x: len(x))\n",
    "dev_df= dev_df.sort_values(by= 'len',ascending=False)\n",
    "\n",
    "no_ans_dev_df= pd.DataFrame(columns= ['question', 'answer', 'passage'])\n",
    "\n",
    "print(dev_df.columns)\n",
    "for i in tqdm(range(200)):\n",
    "    for j in range(1, 6):\n",
    "        new_data= {'question': dev_df.iloc[i+j]['question'], 'passage': dev_df.iloc[i]['passage'], 'answer': 'no answer'}\n",
    "        no_ans_dev_df= no_ans_dev_df.append(new_data, ignore_index= True)\n",
    "\n",
    "print(no_ans_dev_df)\n",
    "no_ans_dev_df.to_csv('./data/no_ans_df_dev_1000.csv', index= False)"
   ]
  },
  {
   "cell_type": "markdown",
   "metadata": {},
   "source": [
    "### Make Total DataFrame\n",
    "학습을 할 데이터를 하나의 데이터프레임에 합침.\n",
    "\n",
    "이 때 Label이 True, False, No answer을 학습 형식에 맞게\n",
    "True : 1, False : 0, No answer : 2로 label을 변경해줌."
   ]
  },
  {
   "cell_type": "code",
   "execution_count": 9,
   "metadata": {},
   "outputs": [
    {
     "name": "stdout",
     "output_type": "stream",
     "text": [
      "question    0\n",
      "answer      0\n",
      "passage     0\n",
      "dtype: int64\n",
      "question    0\n",
      "answer      0\n",
      "passage     0\n",
      "dtype: int64\n",
      "question    0\n",
      "answer      0\n",
      "passage     0\n",
      "dtype: int64\n"
     ]
    }
   ],
   "source": [
    "import pandas as pd\n",
    "\n",
    "df= pd.read_csv('./data/trans_df_total.csv')\n",
    "no_ans_train_df= pd.read_csv('./data/no_ans_df_train_2500.csv')\n",
    "no_ans_dev_df= pd.read_csv('./data/no_ans_df_dev_1000.csv')\n",
    "\n",
    "df['answer']= df['answer'].replace(True, 1)\n",
    "df['answer']= df['answer'].replace(False, 0)\n",
    "\n",
    "no_ans_train_df['answer']= no_ans_train_df['answer'].replace('no answer', 2)\n",
    "no_ans_dev_df['answer']= no_ans_dev_df['answer'].replace('no answer', 2)\n",
    "\n",
    "print(df.isnull().sum())\n",
    "print(no_ans_train_df.isnull().sum())\n",
    "print(no_ans_dev_df.isnull().sum())\n",
    "\n",
    "df= pd.concat([df, no_ans_train_df, no_ans_dev_df])\n",
    "\n",
    "df.to_csv('./data/final_df.csv', index= False)"
   ]
  }
 ],
 "metadata": {
  "interpreter": {
   "hash": "d4d1e4263499bec80672ea0156c357c1ee493ec2b1c70f0acce89fc37c4a6abe"
  },
  "kernelspec": {
   "display_name": "Python 3.8.5 64-bit ('base': conda)",
   "language": "python",
   "name": "python3"
  },
  "language_info": {
   "codemirror_mode": {
    "name": "ipython",
    "version": 3
   },
   "file_extension": ".py",
   "mimetype": "text/x-python",
   "name": "python",
   "nbconvert_exporter": "python",
   "pygments_lexer": "ipython3",
   "version": "3.8.5"
  },
  "orig_nbformat": 4
 },
 "nbformat": 4,
 "nbformat_minor": 2
}
