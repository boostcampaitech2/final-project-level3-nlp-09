{
 "cells": [
  {
   "cell_type": "markdown",
   "id": "8237be7b",
   "metadata": {},
   "source": [
    "# 0. Import and Load data"
   ]
  },
  {
   "cell_type": "code",
   "execution_count": 10,
   "id": "f6207927",
   "metadata": {},
   "outputs": [
    {
     "name": "stdout",
     "output_type": "stream",
     "text": [
      "hi\n"
     ]
    }
   ],
   "source": [
    "print(\"hi\")"
   ]
  },
  {
   "cell_type": "code",
   "execution_count": 7,
   "id": "f1b4d96a",
   "metadata": {},
   "outputs": [],
   "source": [
    "import pandas as pd\n",
    "import seaborn as sns\n",
    "import matplotlib.pyplot as plt\n",
    "\n",
    "# 한글 폰트 설정\n",
    "plt.rc('font', family='NanumBarunGothic')"
   ]
  },
  {
   "cell_type": "code",
   "execution_count": 14,
   "id": "81fe9694",
   "metadata": {},
   "outputs": [],
   "source": [
    "df_train = pd.read_excel('/opt/ml/sentiment_analysis/data/Training.xlsx') #40879개\n",
    "df_test = pd.read_excel('/opt/ml/sentiment_analysis/data/Test.xlsx') #5130개"
   ]
  },
  {
   "cell_type": "code",
   "execution_count": 15,
   "id": "770358eb",
   "metadata": {},
   "outputs": [
    {
     "data": {
      "text/html": [
       "<div>\n",
       "<style scoped>\n",
       "    .dataframe tbody tr th:only-of-type {\n",
       "        vertical-align: middle;\n",
       "    }\n",
       "\n",
       "    .dataframe tbody tr th {\n",
       "        vertical-align: top;\n",
       "    }\n",
       "\n",
       "    .dataframe thead th {\n",
       "        text-align: right;\n",
       "    }\n",
       "</style>\n",
       "<table border=\"1\" class=\"dataframe\">\n",
       "  <thead>\n",
       "    <tr style=\"text-align: right;\">\n",
       "      <th></th>\n",
       "      <th>번호</th>\n",
       "      <th>연령</th>\n",
       "      <th>성별</th>\n",
       "      <th>상황키워드</th>\n",
       "      <th>신체질환</th>\n",
       "      <th>감정_대분류</th>\n",
       "      <th>감정_소분류</th>\n",
       "      <th>사람문장1</th>\n",
       "      <th>시스템응답1</th>\n",
       "      <th>사람문장2</th>\n",
       "      <th>시스템응답2</th>\n",
       "      <th>사람문장3</th>\n",
       "      <th>시스템응답3</th>\n",
       "      <th>사람문장4</th>\n",
       "      <th>시스템응답4</th>\n",
       "    </tr>\n",
       "  </thead>\n",
       "  <tbody>\n",
       "    <tr>\n",
       "      <th>0</th>\n",
       "      <td>44164</td>\n",
       "      <td>청년</td>\n",
       "      <td>남성</td>\n",
       "      <td>연애, 결혼, 출산</td>\n",
       "      <td>해당없음</td>\n",
       "      <td>기쁨</td>\n",
       "      <td>신이 난</td>\n",
       "      <td>아내가 드디어 출산하게 되어서 정말 신이 나.</td>\n",
       "      <td>아내분이 출산을 하시는군요. 정말 축하드려요.</td>\n",
       "      <td>아 지금 정말 신이 나.</td>\n",
       "      <td>잘 된 일이네요.</td>\n",
       "      <td>아기가 점점 클게 벌써 기대가 되네. 내가 많이 놀아줘야지.</td>\n",
       "      <td>좋은 아빠가 되실 거 같아요. 진심으로 축하드려요.</td>\n",
       "      <td>NaN</td>\n",
       "      <td>NaN</td>\n",
       "    </tr>\n",
       "    <tr>\n",
       "      <th>1</th>\n",
       "      <td>3926</td>\n",
       "      <td>노년</td>\n",
       "      <td>남성</td>\n",
       "      <td>건강, 죽음</td>\n",
       "      <td>만성질환 유</td>\n",
       "      <td>불안</td>\n",
       "      <td>스트레스 받는</td>\n",
       "      <td>당뇨랑 합병증 때문에 먹어야 할 약이 열 가지가 넘어가니까 스트레스야.</td>\n",
       "      <td>약 종류가 많아 번거로우시겠어요.</td>\n",
       "      <td>건강할 때 관리 좀 잘할걸 하는 생각이 들더라고.</td>\n",
       "      <td>현재 상황에서 변화를 주기 위해 어떻게 하면 될까요?</td>\n",
       "      <td>약을 잘 챙겨 먹고 나을 수 있도록 노력해야지.</td>\n",
       "      <td>약을 잘 챙겨 먹어 건강해지시길 바랄게요.</td>\n",
       "      <td>NaN</td>\n",
       "      <td>NaN</td>\n",
       "    </tr>\n",
       "    <tr>\n",
       "      <th>2</th>\n",
       "      <td>50882</td>\n",
       "      <td>청소년</td>\n",
       "      <td>여성</td>\n",
       "      <td>학업 및 진로</td>\n",
       "      <td>해당없음</td>\n",
       "      <td>당황</td>\n",
       "      <td>당황</td>\n",
       "      <td>고등학교에 올라오니 중학교 때보다 수업이 갑자기 어려워져서 당황스러워.</td>\n",
       "      <td>고등학교 수업이 중학교 때와는 다르게 갑자기 어려워서 당황스러우시군요.</td>\n",
       "      <td>아직 학기 초인데 내가 수업에 잘 따라갈 수 있을지 걱정돼.</td>\n",
       "      <td>이 상황에서 할 수 있는 게 어떤 것이 있을까요?</td>\n",
       "      <td>중학교 수업을 들을 때보다 훨씬 더 열심히 할 거야.</td>\n",
       "      <td>수업을 어떤 방식으로 열심히 듣는게 좋을까요?</td>\n",
       "      <td>선생님이 강조하신 부분을 필기하고 집에서 매일 수업 내용을 복습하려고 해.</td>\n",
       "      <td>열심히 해서 좋은 결과가 있었으면 좋겠어요.</td>\n",
       "    </tr>\n",
       "  </tbody>\n",
       "</table>\n",
       "</div>"
      ],
      "text/plain": [
       "      번호   연령  성별       상황키워드    신체질환 감정_대분류   감정_소분류  \\\n",
       "0  44164   청년  남성  연애, 결혼, 출산    해당없음     기쁨     신이 난   \n",
       "1   3926   노년  남성      건강, 죽음  만성질환 유     불안  스트레스 받는   \n",
       "2  50882  청소년  여성     학업 및 진로    해당없음     당황       당황   \n",
       "\n",
       "                                     사람문장1  \\\n",
       "0                아내가 드디어 출산하게 되어서 정말 신이 나.   \n",
       "1  당뇨랑 합병증 때문에 먹어야 할 약이 열 가지가 넘어가니까 스트레스야.   \n",
       "2  고등학교에 올라오니 중학교 때보다 수업이 갑자기 어려워져서 당황스러워.   \n",
       "\n",
       "                                    시스템응답1                              사람문장2  \\\n",
       "0                아내분이 출산을 하시는군요. 정말 축하드려요.                      아 지금 정말 신이 나.   \n",
       "1                       약 종류가 많아 번거로우시겠어요.        건강할 때 관리 좀 잘할걸 하는 생각이 들더라고.   \n",
       "2  고등학교 수업이 중학교 때와는 다르게 갑자기 어려워서 당황스러우시군요.  아직 학기 초인데 내가 수업에 잘 따라갈 수 있을지 걱정돼.   \n",
       "\n",
       "                          시스템응답2                               사람문장3  \\\n",
       "0                      잘 된 일이네요.  아기가 점점 클게 벌써 기대가 되네. 내가 많이 놀아줘야지.    \n",
       "1  현재 상황에서 변화를 주기 위해 어떻게 하면 될까요?          약을 잘 챙겨 먹고 나을 수 있도록 노력해야지.   \n",
       "2    이 상황에서 할 수 있는 게 어떤 것이 있을까요?       중학교 수업을 들을 때보다 훨씬 더 열심히 할 거야.   \n",
       "\n",
       "                         시스템응답3                                      사람문장4  \\\n",
       "0  좋은 아빠가 되실 거 같아요. 진심으로 축하드려요.                                        NaN   \n",
       "1       약을 잘 챙겨 먹어 건강해지시길 바랄게요.                                        NaN   \n",
       "2    수업을 어떤 방식으로 열심히 듣는게 좋을까요?   선생님이 강조하신 부분을 필기하고 집에서 매일 수업 내용을 복습하려고 해.   \n",
       "\n",
       "                     시스템응답4  \n",
       "0                       NaN  \n",
       "1                       NaN  \n",
       "2  열심히 해서 좋은 결과가 있었으면 좋겠어요.  "
      ]
     },
     "execution_count": 15,
     "metadata": {},
     "output_type": "execute_result"
    }
   ],
   "source": [
    "df_train.head(3)"
   ]
  },
  {
   "cell_type": "code",
   "execution_count": 17,
   "id": "ff92361f",
   "metadata": {},
   "outputs": [
    {
     "data": {
      "text/plain": [
       "불안     7328\n",
       "분노     6920\n",
       "슬픔     6915\n",
       "기쁨     6730\n",
       "상처     6624\n",
       "당황     6360\n",
       "불안        1\n",
       "기쁨        1\n",
       "Name: 감정_대분류, dtype: int64"
      ]
     },
     "execution_count": 17,
     "metadata": {},
     "output_type": "execute_result"
    }
   ],
   "source": [
    "df_train.감정_대분류.value_counts()"
   ]
  },
  {
   "cell_type": "code",
   "execution_count": 18,
   "id": "8dcdddc6",
   "metadata": {},
   "outputs": [
    {
     "data": {
      "text/plain": [
       "혼란스러운          1370\n",
       "고립된            1269\n",
       "걱정스러운          1056\n",
       "우울한             852\n",
       "짜증내는            834\n",
       "분노              831\n",
       "스트레스 받는         828\n",
       "두려운             782\n",
       "노여워하는           733\n",
       "실망한             733\n",
       "충격 받은           727\n",
       "편안한             727\n",
       "눈물이 나는          724\n",
       "슬픔              720\n",
       "기쁨              719\n",
       "불안              715\n",
       "툴툴대는            712\n",
       "한심한             712\n",
       "만족스러운           712\n",
       "괴로워하는           710\n",
       "후회되는            709\n",
       "당혹스러운           704\n",
       "신이 난            703\n",
       "안도              697\n",
       "부끄러운            695\n",
       "감사하는            692\n",
       "성가신             682\n",
       "억울한             682\n",
       "구역질 나는          681\n",
       "배신당한            677\n",
       "비통한             671\n",
       "죄책감의            667\n",
       "신뢰하는            665\n",
       "조심스러운           662\n",
       "상처              660\n",
       "낙담한             657\n",
       "악의적인            653\n",
       "환멸을 느끼는         651\n",
       "초조한             643\n",
       "좌절한             642\n",
       "회의적인            642\n",
       "가난한, 불우한        634\n",
       "남의 시선을 의식하는     630\n",
       "자신하는            625\n",
       "당황              623\n",
       "취약한             619\n",
       "희생된             617\n",
       "안달하는            615\n",
       "마비된             614\n",
       "외로운             611\n",
       "버려진             609\n",
       "느긋              606\n",
       "질투하는            604\n",
       "혐오스러운           596\n",
       "흥분              585\n",
       "염세적인            584\n",
       "열등감             570\n",
       "방어적인            536\n",
       "Name: 감정_소분류, dtype: int64"
      ]
     },
     "execution_count": 18,
     "metadata": {},
     "output_type": "execute_result"
    }
   ],
   "source": [
    "df_train.감정_소분류.value_counts()"
   ]
  },
  {
   "cell_type": "code",
   "execution_count": 19,
   "id": "ea56d330",
   "metadata": {},
   "outputs": [
    {
     "data": {
      "text/plain": [
       "혼란스러운          180\n",
       "고립된            152\n",
       "스트레스 받는        108\n",
       "걱정스러운          107\n",
       "눈물이 나는         107\n",
       "노여워하는          103\n",
       "기쁨             102\n",
       "괴로워하는           99\n",
       "불안              97\n",
       "충격 받은           97\n",
       "죄책감의            96\n",
       "툴툴대는            95\n",
       "상처              95\n",
       "두려운             94\n",
       "좌절한             94\n",
       "짜증내는            93\n",
       "안달하는            93\n",
       "남의 시선을 의식하는     92\n",
       "조심스러운           92\n",
       "우울한             91\n",
       "신이 난            91\n",
       "한심한             90\n",
       "후회되는            90\n",
       "실망한             90\n",
       "감사하는            89\n",
       "당혹스러운           87\n",
       "안도              86\n",
       "슬픔              86\n",
       "분노              86\n",
       "자신하는            86\n",
       "낙담한             85\n",
       "만족스러운           85\n",
       "초조한             84\n",
       "환멸을 느끼는         84\n",
       "회의적인            83\n",
       "성가신             83\n",
       "구역질 나는          83\n",
       "편안한             82\n",
       "염세적인            82\n",
       "신뢰하는            81\n",
       "부끄러운            81\n",
       "억울한             80\n",
       "외로운             80\n",
       "질투하는            79\n",
       "느긋              78\n",
       "희생된             77\n",
       "열등감             76\n",
       "취약한             76\n",
       "당황              75\n",
       "마비된             75\n",
       "방어적인            73\n",
       "배신당한            73\n",
       "비통한             71\n",
       "악의적인            70\n",
       "버려진             70\n",
       "가난한, 불우한        68\n",
       "혐오스러운           67\n",
       "흥분              61\n",
       "Name: 감정_소분류, dtype: int64"
      ]
     },
     "execution_count": 19,
     "metadata": {},
     "output_type": "execute_result"
    }
   ],
   "source": [
    "df_valid.감정_소분류.value_counts()"
   ]
  },
  {
   "cell_type": "code",
   "execution_count": 20,
   "id": "a20f7291",
   "metadata": {},
   "outputs": [
    {
     "name": "stdout",
     "output_type": "stream",
     "text": [
      "<class 'pandas.core.frame.DataFrame'>\n",
      "RangeIndex: 40879 entries, 0 to 40878\n",
      "Data columns (total 15 columns):\n",
      " #   Column  Non-Null Count  Dtype \n",
      "---  ------  --------------  ----- \n",
      " 0   번호      40879 non-null  int64 \n",
      " 1   연령      40879 non-null  object\n",
      " 2   성별      40879 non-null  object\n",
      " 3   상황키워드   40879 non-null  object\n",
      " 4   신체질환    40879 non-null  object\n",
      " 5   감정_대분류  40879 non-null  object\n",
      " 6   감정_소분류  40879 non-null  object\n",
      " 7   사람문장1   40879 non-null  object\n",
      " 8   시스템응답1  40879 non-null  object\n",
      " 9   사람문장2   40879 non-null  object\n",
      " 10  시스템응답2  40879 non-null  object\n",
      " 11  사람문장3   31059 non-null  object\n",
      " 12  시스템응답3  31059 non-null  object\n",
      " 13  사람문장4   1472 non-null   object\n",
      " 14  시스템응답4  1362 non-null   object\n",
      "dtypes: int64(1), object(14)\n",
      "memory usage: 4.7+ MB\n"
     ]
    }
   ],
   "source": [
    "df_train.info()"
   ]
  },
  {
   "cell_type": "code",
   "execution_count": 5,
   "id": "58abebb7",
   "metadata": {},
   "outputs": [
    {
     "name": "stdout",
     "output_type": "stream",
     "text": [
      "<class 'pandas.core.frame.DataFrame'>\n",
      "RangeIndex: 46009 entries, 0 to 46008\n",
      "Data columns (total 15 columns):\n",
      " #   Column  Non-Null Count  Dtype \n",
      "---  ------  --------------  ----- \n",
      " 0   번호      46009 non-null  int64 \n",
      " 1   연령      46009 non-null  object\n",
      " 2   성별      46009 non-null  object\n",
      " 3   상황키워드   46009 non-null  object\n",
      " 4   신체질환    46009 non-null  object\n",
      " 5   감정_대분류  46009 non-null  object\n",
      " 6   감정_소분류  46009 non-null  object\n",
      " 7   사람문장1   46009 non-null  object\n",
      " 8   시스템응답1  46009 non-null  object\n",
      " 9   사람문장2   46009 non-null  object\n",
      " 10  시스템응답2  46009 non-null  object\n",
      " 11  사람문장3   34933 non-null  object\n",
      " 12  시스템응답3  34933 non-null  object\n",
      " 13  사람문장4   1623 non-null   object\n",
      " 14  시스템응답4  1498 non-null   object\n",
      "dtypes: int64(1), object(14)\n",
      "memory usage: 5.3+ MB\n"
     ]
    }
   ],
   "source": [
    "# 어떤 항목이 있는가 확인하기 위하여 train + valid를 하겠음\n",
    "df_all = pd.concat([df_train, df_valid],ignore_index = True)\n",
    "df_all.info()"
   ]
  },
  {
   "cell_type": "markdown",
   "id": "1ad8071a",
   "metadata": {},
   "source": [
    "- 3, 4에서는 결측값이 있는 것을 확인 가능함\n",
    "- 3까지는 문장에 대한 응답이 모두 존재하나 4의 경우 시스템 응답이 없는 경우가 존재함 -->`확인해보자`"
   ]
  },
  {
   "cell_type": "markdown",
   "id": "6102a3c8",
   "metadata": {},
   "source": [
    "# 1. 중복 data 확인"
   ]
  },
  {
   "cell_type": "code",
   "execution_count": 6,
   "id": "d82a3169",
   "metadata": {},
   "outputs": [
    {
     "data": {
      "text/html": [
       "<div>\n",
       "<style scoped>\n",
       "    .dataframe tbody tr th:only-of-type {\n",
       "        vertical-align: middle;\n",
       "    }\n",
       "\n",
       "    .dataframe tbody tr th {\n",
       "        vertical-align: top;\n",
       "    }\n",
       "\n",
       "    .dataframe thead th {\n",
       "        text-align: right;\n",
       "    }\n",
       "</style>\n",
       "<table border=\"1\" class=\"dataframe\">\n",
       "  <thead>\n",
       "    <tr style=\"text-align: right;\">\n",
       "      <th></th>\n",
       "      <th>번호</th>\n",
       "      <th>연령</th>\n",
       "      <th>성별</th>\n",
       "      <th>상황키워드</th>\n",
       "      <th>신체질환</th>\n",
       "      <th>감정_대분류</th>\n",
       "      <th>감정_소분류</th>\n",
       "      <th>사람문장1</th>\n",
       "      <th>시스템응답1</th>\n",
       "      <th>사람문장2</th>\n",
       "      <th>시스템응답2</th>\n",
       "      <th>사람문장3</th>\n",
       "      <th>시스템응답3</th>\n",
       "      <th>사람문장4</th>\n",
       "      <th>시스템응답4</th>\n",
       "    </tr>\n",
       "  </thead>\n",
       "  <tbody>\n",
       "  </tbody>\n",
       "</table>\n",
       "</div>"
      ],
      "text/plain": [
       "Empty DataFrame\n",
       "Columns: [번호, 연령, 성별, 상황키워드, 신체질환, 감정_대분류, 감정_소분류, 사람문장1, 시스템응답1, 사람문장2, 시스템응답2, 사람문장3, 시스템응답3, 사람문장4, 시스템응답4]\n",
       "Index: []"
      ]
     },
     "execution_count": 6,
     "metadata": {},
     "output_type": "execute_result"
    }
   ],
   "source": [
    "# 열 이름을 가져온다\n",
    "col_name = list(df_all)\n",
    "# 번호를 제외한 중복을 확인\n",
    "col_name = col_name[1:]\n",
    "df_all[df_all.duplicated(col_name)]"
   ]
  },
  {
   "cell_type": "markdown",
   "id": "b90ef7d4",
   "metadata": {},
   "source": [
    "- 없다"
   ]
  },
  {
   "cell_type": "markdown",
   "id": "56e81eeb",
   "metadata": {},
   "source": [
    "# 2. 감정 분포 확인"
   ]
  },
  {
   "cell_type": "markdown",
   "id": "eb3e32fe",
   "metadata": {},
   "source": [
    "## 1) 감정 대분류"
   ]
  },
  {
   "cell_type": "code",
   "execution_count": 24,
   "id": "5b9cd3a7",
   "metadata": {},
   "outputs": [
    {
     "data": {
      "text/plain": [
       "불안     8235\n",
       "분노     7793\n",
       "슬픔     7776\n",
       "기쁨     7571\n",
       "상처     7440\n",
       "당황     7192\n",
       "불안        1\n",
       "기쁨        1\n",
       "Name: 감정_대분류, dtype: int64"
      ]
     },
     "execution_count": 24,
     "metadata": {},
     "output_type": "execute_result"
    }
   ],
   "source": [
    "df_all.감정_대분류.value_counts()"
   ]
  },
  {
   "cell_type": "code",
   "execution_count": 36,
   "id": "22aa3f19",
   "metadata": {},
   "outputs": [
    {
     "data": {
      "text/html": [
       "<div>\n",
       "<style scoped>\n",
       "    .dataframe tbody tr th:only-of-type {\n",
       "        vertical-align: middle;\n",
       "    }\n",
       "\n",
       "    .dataframe tbody tr th {\n",
       "        vertical-align: top;\n",
       "    }\n",
       "\n",
       "    .dataframe thead th {\n",
       "        text-align: right;\n",
       "    }\n",
       "</style>\n",
       "<table border=\"1\" class=\"dataframe\">\n",
       "  <thead>\n",
       "    <tr style=\"text-align: right;\">\n",
       "      <th></th>\n",
       "      <th>번호</th>\n",
       "      <th>연령</th>\n",
       "      <th>성별</th>\n",
       "      <th>상황키워드</th>\n",
       "      <th>신체질환</th>\n",
       "      <th>감정_대분류</th>\n",
       "      <th>감정_소분류</th>\n",
       "      <th>사람문장1</th>\n",
       "      <th>시스템응답1</th>\n",
       "      <th>사람문장2</th>\n",
       "      <th>시스템응답2</th>\n",
       "      <th>사람문장3</th>\n",
       "      <th>시스템응답3</th>\n",
       "      <th>사람문장4</th>\n",
       "      <th>시스템응답4</th>\n",
       "    </tr>\n",
       "  </thead>\n",
       "  <tbody>\n",
       "    <tr>\n",
       "      <th>34527</th>\n",
       "      <td>38866</td>\n",
       "      <td>중년</td>\n",
       "      <td>여성</td>\n",
       "      <td>직장, 업무 스트레스</td>\n",
       "      <td>해당없음</td>\n",
       "      <td>불안</td>\n",
       "      <td>스트레스 받는</td>\n",
       "      <td>오 대리가 자기 잘못을 끝까지 인정하지 않아서 더 이상 말 섞기가 싫어.</td>\n",
       "      <td>잘못을 인정 안 하는 오 대리와 말 섞기가 싫으시군요.</td>\n",
       "      <td>고집만 세서 말이 안 통해. 답답하고 화가 나.</td>\n",
       "      <td>스트레스 받으시겠어요. 어떻게 하면 기분이 나아질 수 있을까요?</td>\n",
       "      <td>그냥 무시해야겠어.</td>\n",
       "      <td>적극적인 할인 기간과 물품 이용이 생활에 도움이 되길 바라요.</td>\n",
       "      <td>NaN</td>\n",
       "      <td>NaN</td>\n",
       "    </tr>\n",
       "  </tbody>\n",
       "</table>\n",
       "</div>"
      ],
      "text/plain": [
       "          번호  연령  성별        상황키워드  신체질환 감정_대분류   감정_소분류  \\\n",
       "34527  38866  중년  여성  직장, 업무 스트레스  해당없음    불안   스트레스 받는   \n",
       "\n",
       "                                          사람문장1  \\\n",
       "34527  오 대리가 자기 잘못을 끝까지 인정하지 않아서 더 이상 말 섞기가 싫어.   \n",
       "\n",
       "                               시스템응답1                       사람문장2  \\\n",
       "34527  잘못을 인정 안 하는 오 대리와 말 섞기가 싫으시군요.  고집만 세서 말이 안 통해. 답답하고 화가 나.   \n",
       "\n",
       "                                    시스템응답2       사람문장3  \\\n",
       "34527  스트레스 받으시겠어요. 어떻게 하면 기분이 나아질 수 있을까요?  그냥 무시해야겠어.   \n",
       "\n",
       "                                   시스템응답3 사람문장4 시스템응답4  \n",
       "34527  적극적인 할인 기간과 물품 이용이 생활에 도움이 되길 바라요.   NaN    NaN  "
      ]
     },
     "execution_count": 36,
     "metadata": {},
     "output_type": "execute_result"
    }
   ],
   "source": [
    "df_all[df_all['감정_대분류']=='불안 ']"
   ]
  },
  {
   "cell_type": "code",
   "execution_count": 37,
   "id": "94e99cb5",
   "metadata": {},
   "outputs": [],
   "source": [
    "# '불안','기쁨' 이 아니라 '불안 ', '기쁨 '으로 된 것을 바꾼다.\n",
    "df_all.loc[35511, '감정_대분류']= '기쁨'\n",
    "df_all.loc[34527, '감정_대분류']= '불안'"
   ]
  },
  {
   "cell_type": "code",
   "execution_count": 40,
   "id": "26305a22",
   "metadata": {
    "scrolled": true
   },
   "outputs": [
    {
     "data": {
      "image/png": "[encoded data removed]",
      "text/plain": [
       "<Figure size 576x360 with 1 Axes>"
      ]
     },
     "metadata": {
      "needs_background": "light"
     },
     "output_type": "display_data"
    }
   ],
   "source": [
    "countplt,ax = plt.subplots(figsize=(8,5))\n",
    "\n",
    "ax = sns.countplot(x='감정_대분류', data=df_all, palette='Set2');\n",
    "for rect in ax.patches:\n",
    "    ax.text (rect.get_x() + rect.get_width()  / 2,rect.get_height()+ 100,rect.get_height(),horizontalalignment='center', fontsize = 11)\n"
   ]
  },
  {
   "cell_type": "markdown",
   "id": "e0328c48",
   "metadata": {},
   "source": [
    "## 2) 감정 소분류"
   ]
  },
  {
   "cell_type": "code",
   "execution_count": 45,
   "id": "71287586",
   "metadata": {
    "scrolled": true
   },
   "outputs": [
    {
     "data": {
      "text/plain": [
       "혼란스러운          1550\n",
       "고립된            1421\n",
       "걱정스러운          1163\n",
       "우울한             943\n",
       "스트레스 받는         936\n",
       "짜증내는            927\n",
       "분노              917\n",
       "두려운             876\n",
       "노여워하는           836\n",
       "눈물이 나는          831\n",
       "충격 받은           824\n",
       "실망한             823\n",
       "기쁨              821\n",
       "불안              812\n",
       "괴로워하는           809\n",
       "편안한             809\n",
       "툴툴대는            807\n",
       "슬픔              806\n",
       "한심한             802\n",
       "후회되는            799\n",
       "만족스러운           797\n",
       "신이 난            794\n",
       "당혹스러운           791\n",
       "안도              783\n",
       "감사하는            781\n",
       "부끄러운            776\n",
       "성가신             765\n",
       "구역질 나는          764\n",
       "죄책감의            763\n",
       "억울한             762\n",
       "상처              755\n",
       "조심스러운           754\n",
       "배신당한            750\n",
       "신뢰하는            746\n",
       "비통한             742\n",
       "낙담한             742\n",
       "좌절한             736\n",
       "환멸을 느끼는         735\n",
       "초조한             727\n",
       "회의적인            725\n",
       "악의적인            723\n",
       "남의 시선을 의식하는     722\n",
       "자신하는            711\n",
       "안달하는            708\n",
       "가난한, 불우한        702\n",
       "당황              698\n",
       "취약한             695\n",
       "희생된             694\n",
       "외로운             691\n",
       "마비된             689\n",
       "느긋              684\n",
       "질투하는            683\n",
       "버려진             679\n",
       "염세적인            666\n",
       "혐오스러운           663\n",
       "흥분              646\n",
       "열등감             646\n",
       "방어적인            609\n",
       "Name: 감정_소분류, dtype: int64"
      ]
     },
     "execution_count": 45,
     "metadata": {},
     "output_type": "execute_result"
    }
   ],
   "source": [
    "df_all.감정_소분류.value_counts()"
   ]
  },
  {
   "cell_type": "markdown",
   "id": "b683816e",
   "metadata": {},
   "source": [
    "- 너무 많아서 눈에 안들어옴"
   ]
  },
  {
   "cell_type": "markdown",
   "id": "df7d5c46",
   "metadata": {},
   "source": [
    "## 3) 감정 대분류 - 감정 소분류"
   ]
  },
  {
   "cell_type": "code",
   "execution_count": 102,
   "id": "45a5cf46",
   "metadata": {},
   "outputs": [],
   "source": [
    "def drawplot(r,c,main_category):\n",
    "    ax[r][c].set_title(main_category)\n",
    "    ax1 = sns.countplot(y='감정_소분류', data=df_all[df_all['감정_대분류']==main_category], palette='hls',ax=ax[r][c]);\n",
    "    for rect in ax1.patches:\n",
    "        ax1.text (rect.get_width()+20,rect.get_y() + rect.get_height()/2,rect.get_width(),horizontalalignment='center', fontsize = 11)"
   ]
  },
  {
   "cell_type": "code",
   "execution_count": 103,
   "id": "3695129f",
   "metadata": {
    "scrolled": false
   },
   "outputs": [
    {
     "data": {
      "image/png": "[encoded data removed]",
      "text/plain": [
       "<Figure size 1152x1080 with 6 Axes>"
      ]
     },
     "metadata": {
      "needs_background": "light"
     },
     "output_type": "display_data"
    }
   ],
   "source": [
    "countplt,ax = plt.subplots(figsize=(16,15),nrows=3,ncols=2)\n",
    "main_category_list = ['기쁨','불안','당황','슬픔','분노','상처']\n",
    "for c in range(2):\n",
    "    for r in range(3):\n",
    "        drawplot(r,c,main_category_list[r+c*3])"
   ]
  },
  {
   "cell_type": "markdown",
   "id": "6e99dcda",
   "metadata": {},
   "source": [
    "# 3. 신체 질환"
   ]
  },
  {
   "cell_type": "markdown",
   "id": "42ab8c83",
   "metadata": {},
   "source": [
    "## 1) 신체 질환"
   ]
  },
  {
   "cell_type": "code",
   "execution_count": 157,
   "id": "bd700ef4",
   "metadata": {},
   "outputs": [
    {
     "data": {
      "image/png": "[encoded data removed]",
      "text/plain": [
       "<Figure size 576x360 with 1 Axes>"
      ]
     },
     "metadata": {
      "needs_background": "light"
     },
     "output_type": "display_data"
    }
   ],
   "source": [
    "countplt,ax = plt.subplots(figsize=(8,5))\n",
    "\n",
    "ax = sns.countplot(x='신체질환', data=df_all, palette='hls');\n",
    "for rect in ax.patches:\n",
    "    ax.text (rect.get_x() + rect.get_width()  / 2,rect.get_height()+ 100,rect.get_height(),horizontalalignment='center', fontsize = 11)\n"
   ]
  },
  {
   "cell_type": "markdown",
   "id": "57ed1237",
   "metadata": {},
   "source": [
    "## 2) 감정 대분류 - 신체 질환 관계"
   ]
  },
  {
   "cell_type": "code",
   "execution_count": 156,
   "id": "a2b54b42",
   "metadata": {},
   "outputs": [
    {
     "name": "stdout",
     "output_type": "stream",
     "text": [
      "[2039, 1949, 1944, 1854, 1850, 1838]\n"
     ]
    },
    {
     "data": {
      "image/png": "[encoded data removed]",
      "text/plain": [
       "<Figure size 720x360 with 1 Axes>"
      ]
     },
     "metadata": {
      "needs_background": "light"
     },
     "output_type": "display_data"
    }
   ],
   "source": [
    "countplt,ax = plt.subplots(figsize=(10,5))\n",
    "\n",
    "\n",
    "plt.title(\"감정 대분류\")\n",
    "df_chronic = df_all[(df_all['신체질환']=='만성질환 유')|(df_all['신체질환']=='만성질환 무')]\n",
    "ax = sns.histplot(data = df_chronic,x = '감정_대분류', hue='신체질환',\n",
    "                  multiple = 'stack',palette='Set2') #kde=True)\n",
    "\n",
    "\n",
    "# % 표시\n",
    "age_count= list(df_chronic.감정_대분류.value_counts())\n",
    "print(age_count)\n",
    "age_count[0],age_count[1], age_count[2],age_count[3], age_count[4],age_count[5]\\\n",
    "    = age_count[0],age_count[2], age_count[4],age_count[1], age_count[3],age_count[5]\n",
    "\n",
    "for i,p in enumerate(ax.patches):\n",
    "    txt = str(((p.get_height() / (age_count[i%6]))*100).round(1)) + '%'\n",
    "    txt_x = p.get_x()\n",
    "    txt_y = p.get_height() if i//6 ==0 else age_count[i%6]+10\n",
    "    ax.text(txt_x,txt_y,txt,horizontalalignment='left',size=10,fontweight ='bold')"
   ]
  },
  {
   "cell_type": "markdown",
   "id": "88f89c9c",
   "metadata": {},
   "source": [
    "- 만성질환과 감정의 관계는 없는듯? 고르게 나타나있다"
   ]
  },
  {
   "cell_type": "markdown",
   "id": "a74b919d",
   "metadata": {},
   "source": [
    "# 4. 연령 및 성별"
   ]
  },
  {
   "cell_type": "markdown",
   "id": "7670d0e4",
   "metadata": {},
   "source": [
    "## 1) 성별"
   ]
  },
  {
   "cell_type": "code",
   "execution_count": 108,
   "id": "f4d5a049",
   "metadata": {},
   "outputs": [
    {
     "data": {
      "image/png": "[encoded data removed]",
      "text/plain": [
       "<Figure size 576x360 with 1 Axes>"
      ]
     },
     "metadata": {
      "needs_background": "light"
     },
     "output_type": "display_data"
    }
   ],
   "source": [
    "countplt,ax = plt.subplots(figsize=(8,5))\n",
    "\n",
    "ax = sns.countplot(x='성별', data=df_all, palette='Set2');\n",
    "for rect in ax.patches:\n",
    "    ax.text (rect.get_x() + rect.get_width()  / 2,rect.get_height()+ 100,rect.get_height(),horizontalalignment='center', fontsize = 11)\n"
   ]
  },
  {
   "cell_type": "markdown",
   "id": "4dce345c",
   "metadata": {},
   "source": [
    "## 2) 연령"
   ]
  },
  {
   "cell_type": "code",
   "execution_count": 154,
   "id": "405385c3",
   "metadata": {
    "scrolled": true
   },
   "outputs": [
    {
     "data": {
      "image/png": "[encoded data removed]",
      "text/plain": [
       "<Figure size 576x360 with 1 Axes>"
      ]
     },
     "metadata": {
      "needs_background": "light"
     },
     "output_type": "display_data"
    }
   ],
   "source": [
    "countplt,ax = plt.subplots(figsize=(8,5))\n",
    "\n",
    "ax = sns.countplot(x='연령', data=df_all, palette='hls');\n",
    "for rect in ax.patches:\n",
    "    ax.text (rect.get_x() + rect.get_width()  / 2,rect.get_height()+ 100,rect.get_height(),horizontalalignment='center', fontsize = 11)\n"
   ]
  },
  {
   "cell_type": "markdown",
   "id": "ba64fdbc",
   "metadata": {},
   "source": [
    "## 3) 연령 및 성별"
   ]
  },
  {
   "cell_type": "code",
   "execution_count": 129,
   "id": "5ee26979",
   "metadata": {
    "scrolled": false
   },
   "outputs": [
    {
     "name": "stdout",
     "output_type": "stream",
     "text": [
      "[14055, 12207, 11474, 8273]\n"
     ]
    },
    {
     "data": {
      "image/png": "[encoded data removed]",
      "text/plain": [
       "<Figure size 576x360 with 1 Axes>"
      ]
     },
     "metadata": {
      "needs_background": "light"
     },
     "output_type": "display_data"
    }
   ],
   "source": [
    "countplt,ax = plt.subplots(figsize=(8,5))\n",
    "\n",
    "plt.title(\"Age group\")\n",
    "ax = sns.histplot(data = df_all,x = '연령', hue='성별', multiple = 'stack',palette='Set2') #kde=True)\n",
    "\n",
    "\n",
    "# % 표시\n",
    "age_count= list(df_all.연령.value_counts())\n",
    "print(age_count)\n",
    "age_count[0],age_count[1], age_count[2],age_count[3]=age_count[0],age_count[2], age_count[3],age_count[1]\n",
    "\n",
    "for i,p in enumerate(ax.patches):\n",
    "    txt = str(((p.get_height() / (age_count[i%4]))*100).round(1)) + '%'\n",
    "    txt_x = p.get_x()\n",
    "    txt_y = p.get_height() if i//4 ==0 else age_count[i%4]+10\n",
    "    ax.text(txt_x,txt_y,txt,horizontalalignment='left',size=10,fontweight ='bold')"
   ]
  },
  {
   "cell_type": "markdown",
   "id": "3c834cd6",
   "metadata": {},
   "source": [
    "# 5. 시스템 대화 4\n",
    "#### 사람문장4는 존재하지만 시스템응답4가 존재하지 않을 때는 사람이 뭐라고 했을 때일까?"
   ]
  },
  {
   "cell_type": "code",
   "execution_count": 179,
   "id": "942cfa70",
   "metadata": {},
   "outputs": [],
   "source": [
    "check_p4 = list(df_all[(df_all['시스템응답4'].isnull())&(~(df_all['사람문장4'].isnull()))]['사람문장4'])"
   ]
  },
  {
   "cell_type": "code",
   "execution_count": 185,
   "id": "9c9b9fd2",
   "metadata": {},
   "outputs": [
    {
     "name": "stdout",
     "output_type": "stream",
     "text": [
      "126\n"
     ]
    },
    {
     "data": {
      "text/plain": [
       "['주말에는 내가 직접 연수를 해줘야겠어.',\n",
       " '지금 당장의 일은 생각하지 않을래.',\n",
       " '나와 비슷한 유명인이나 유튜버들을 보여주려고 해.',\n",
       " '처음에 주문할 때 더 분명하게 말해야겠어.',\n",
       " '그 친구가 내 마음을 이해해 줬으면 좋겠어.',\n",
       " '친구가 내 이야기를 들어주고 공감해 주면 기분이 나아질 것 같아.',\n",
       " '당황스럽다고 느낄 수도 있지만 현실적으로 생각하는 데 도움이 될 거야.',\n",
       " '제대로된 보고서로 제출했기를 바라야지.',\n",
       " '신뢰를 얻을 수 있게 맡은 일을 제대로 해낼 거야.',\n",
       " '내 입장을 말하면서 앞으로 내가 함께 돕겠다고 해야겠어.',\n",
       " '우리 가게를 아는 사람이 더 늘어나서 매출이 회복되면 좋겠어.',\n",
       " '남편이 내 답답한 심정을 알아줬으면 좋겠어.',\n",
       " '이번처럼 거짓말을 할 필요 없이 내 의견을 말할 수 있을거야.',\n",
       " '모르는 점도 확실히 알 수 있고 무엇보다 답답한 마음이 사라질거야.',\n",
       " '많은 사람들과 함께 있는 공간에 익숙해질 수 있어.',\n",
       " '트랜스젠더에 대한 정의를 알려주고 나와 비슷한 사람들의 이야기를 해줄거야.',\n",
       " '남편이 원하는 바가 뭔지 정확하게 알 수 있을거야.',\n",
       " '시간이 부족하면 솔직하게 말하고 양해를 구해야겠어.',\n",
       " '사업의 정확한 방향을 정하고 싶어.',\n",
       " '앞으로 목이 상하지 않게 건강에 신경 쓸거야.',\n",
       " '친구들이랑 더 깊은 얘기도 하고 이해받을 수 있을 것 같아.',\n",
       " '나도 놀라지만 말고 보고 배워야겠다는 생각이 들었어.',\n",
       " '새로운 거래를 따내고 회사에서도 승진할 수 있을거야.',\n",
       " '나와 상관 없는 사람들이 하는 얘기는 그냥 무시할래.',\n",
       " '혼자 끙끙 앓는 것보다 직접 대답을 들으면 속이 시원할 것 같아.',\n",
       " '앞으로는 더 당당하게 여러 사람이랑 얘기해 보려고.',\n",
       " '친구들이 내 입장을 알고 앞으로는 놀리지 않았으면 좋겠어. ',\n",
       " '업무도 더 열심히 하고 잘 따라야겠어.',\n",
       " '체력관리를 해서 더 오래 공부할 수 있도록 노력 중이야.',\n",
       " '친구들이 더 이상 놀리지 않았으면 좋겠어.']"
      ]
     },
     "execution_count": 185,
     "metadata": {},
     "output_type": "execute_result"
    }
   ],
   "source": [
    "print(len(check_p4))\n",
    "check_p4[:30]"
   ]
  },
  {
   "cell_type": "markdown",
   "id": "8a6b26d4",
   "metadata": {},
   "source": [
    "# 6. 상황 키워드"
   ]
  },
  {
   "cell_type": "code",
   "execution_count": 190,
   "id": "2b3593e7",
   "metadata": {},
   "outputs": [
    {
     "data": {
      "image/png": "[encoded data removed]",
      "text/plain": [
       "<Figure size 1296x360 with 1 Axes>"
      ]
     },
     "metadata": {
      "needs_background": "light"
     },
     "output_type": "display_data"
    }
   ],
   "source": [
    "countplt,ax = plt.subplots(figsize=(18,5))\n",
    "\n",
    "ax = sns.countplot(x='상황키워드', data=df_all, palette='hls');\n",
    "for rect in ax.patches:\n",
    "    ax.text (rect.get_x() + rect.get_width()  / 2,rect.get_height()+ 100,rect.get_height(),horizontalalignment='center', fontsize = 11)\n"
   ]
  },
  {
   "cell_type": "markdown",
   "id": "6a3d8957",
   "metadata": {},
   "source": [
    "### 사용할거면 묶을만한 것..?\n",
    "\n",
    "- `연애,결혼,출산`\n",
    "- `건강,죽음`  /  `건강`\n",
    "- `학업 및 진로`  /  `진로, 취업, 직장`  / `직장, 업무 스트레스`\n",
    "- `재정`  /  `재정, 은퇴, 노후준비`\n",
    "- `학교폭력/따돌림`\n",
    "- `대인관계`\n",
    "- `가족 관계`  / `대인관계(부부, 자녀)`"
   ]
  },
  {
   "cell_type": "code",
   "execution_count": null,
   "id": "792a1515",
   "metadata": {},
   "outputs": [],
   "source": []
  }
 ],
 "metadata": {
  "kernelspec": {
   "display_name": "lightweight",
   "language": "python",
   "name": "lightweight"
  },
  "language_info": {
   "codemirror_mode": {
    "name": "ipython",
    "version": 3
   },
   "file_extension": ".py",
   "mimetype": "text/x-python",
   "name": "python",
   "nbconvert_exporter": "python",
   "pygments_lexer": "ipython3",
   "version": "3.7.11"
  }
 },
 "nbformat": 4,
 "nbformat_minor": 5
}
