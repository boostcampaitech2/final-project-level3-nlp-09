{
 "cells": [
  {
   "cell_type": "code",
   "execution_count": 1,
   "metadata": {},
   "outputs": [],
   "source": [
    "from pororo import Pororo\n",
    "from tqdm import tqdm\n",
    "import json\n",
    "import jsonlines\n",
    "import pandas as pd\n",
    "from pprint import pprint"
   ]
  },
  {
   "cell_type": "code",
   "execution_count": 49,
   "metadata": {},
   "outputs": [
    {
     "name": "stdout",
     "output_type": "stream",
     "text": [
      "9427\n"
     ]
    },
    {
     "name": "stderr",
     "output_type": "stream",
     "text": [
      "100%|██████████| 3000/3000 [2:58:25<00:00,  3.57s/it]"
     ]
    },
    {
     "name": "stdout",
     "output_type": "stream",
     "text": [
      "                                 question  answer  \\\n",
      "0                   이란과 아프가니스탄은 같은 언어를 한다    True   \n",
      "1     좋은 사마리아인 법을 통해 사고에 도움을 주는 사람들을 보호하라    True   \n",
      "2                          유리창의 창문 제작자 일부    True   \n",
      "3                       분말 설탕과 같은 과자 설탕이다    True   \n",
      "4               온라인에서는 하늘숲과 같은 오래된 롤이 있다.   False   \n",
      "...                                   ...     ...   \n",
      "2995                    인디언 토닉수는 토닉 물과 같다    True   \n",
      "2996               와일드 카드로 무노 게임을 끝낼 수 있다    True   \n",
      "2997      탄파 플로리다가 허리케인으로부터 직격탄을 맞은 적이 있다    True   \n",
      "2998                 프레디 크루거를 연기한 배우가 죽었다   False   \n",
      "2999                같은 가족에 있는 카를플라워와 브로콜리    True   \n",
      "\n",
      "                                                passage  \n",
      "0     익명의 파르시(Farsi)로도 알려진 페르시아어(Fersi Forsisi)는 인도-...  \n",
      "1     좋은 사마리아인 법은 합리적인 도움을 주거나 자신이 믿는 사람, 부상, 병이 있거나...  \n",
      "2     윈도우 영화관(옛날 윈도우라이브 영화 '윈도우' 7호)은 마이크로소프트가 중단한 영...  \n",
      "3     과자의 설탕이라고도 불리는 밀가루 설탕, 설탕 얼리기, 아이스케이크 등은 분말 상태...  \n",
      "4     노인 스크롤 시리즈에서 다른 게임들과 마찬가지로 타미리엘의 대륙에서 경기가 펼쳐진다...  \n",
      "...                                                 ...  \n",
      "2995  토닉수(또는 인도 토닉수)는 퀴inine이 녹아 있는 탄산소프트 음료다. 원래 말라...  \n",
      "2996  최초로 마지막 카드('진출')를 없앤 선수가 상대 선수들이 보유한 카드의 손과 점수...  \n",
      "2997  1921년 탬파 베이 허리케인(일명 타르폰 스프린트)은 탬파베이 지역을 강타한 주요...  \n",
      "2998  로버트 엔글런드(1947년 6월 6일 출생)는 미국 배우 목소리배우 가수 겸 감독으...  \n",
      "2999  브라스리카 올레나는 배추, 브로콜리, 칼리플라워, 칼레, 브뤼셀러 스프라우트, 콜라...  \n",
      "\n",
      "[3000 rows x 3 columns]\n"
     ]
    },
    {
     "name": "stderr",
     "output_type": "stream",
     "text": [
      "\n"
     ]
    }
   ],
   "source": [
    "# pororo로 translation / 현재 코드는 3000개만  생성\n",
    "data= []\n",
    "with jsonlines.open('./data/train.jsonl') as file:\n",
    "    for line in file.iter():\n",
    "        data.append(line)\n",
    "# question, answer, passage\n",
    "print(len(data))\n",
    "\n",
    "df= pd.DataFrame([], columns= ['question', 'answer', 'passage'])\n",
    "mt = Pororo(task=\"translation\", lang=\"multi\")\n",
    "\n",
    "q, p, a= [], [], []\n",
    "for i in tqdm(range(3000)):\n",
    "    p.append(mt(data[i]['passage'], src= 'en', tgt= 'ko'))\n",
    "    q.append(mt(data[i]['question'], src= 'en', tgt= 'ko'))\n",
    "    a.append(data[i]['answer'])\n",
    "\n",
    "df['question']= q\n",
    "df['passage']= p\n",
    "df['answer']= a\n",
    "\n",
    "print(df)\n",
    "df.to_csv('./trans_df.csv', index= False)"
   ]
  },
  {
   "cell_type": "code",
   "execution_count": 2,
   "metadata": {},
   "outputs": [
    {
     "data": {
      "text/html": [
       "<div>\n",
       "<style scoped>\n",
       "    .dataframe tbody tr th:only-of-type {\n",
       "        vertical-align: middle;\n",
       "    }\n",
       "\n",
       "    .dataframe tbody tr th {\n",
       "        vertical-align: top;\n",
       "    }\n",
       "\n",
       "    .dataframe thead th {\n",
       "        text-align: right;\n",
       "    }\n",
       "</style>\n",
       "<table border=\"1\" class=\"dataframe\">\n",
       "  <thead>\n",
       "    <tr style=\"text-align: right;\">\n",
       "      <th></th>\n",
       "      <th>question</th>\n",
       "      <th>answer</th>\n",
       "      <th>passage</th>\n",
       "    </tr>\n",
       "  </thead>\n",
       "  <tbody>\n",
       "    <tr>\n",
       "      <th>2995</th>\n",
       "      <td>인디언 토닉수는 토닉 물과 같다</td>\n",
       "      <td>True</td>\n",
       "      <td>토닉수(또는 인도 토닉수)는 퀴inine이 녹아 있는 탄산소프트 음료다. 원래 말라...</td>\n",
       "    </tr>\n",
       "    <tr>\n",
       "      <th>2996</th>\n",
       "      <td>와일드 카드로 무노 게임을 끝낼 수 있다</td>\n",
       "      <td>True</td>\n",
       "      <td>최초로 마지막 카드('진출')를 없앤 선수가 상대 선수들이 보유한 카드의 손과 점수...</td>\n",
       "    </tr>\n",
       "    <tr>\n",
       "      <th>2997</th>\n",
       "      <td>탄파 플로리다가 허리케인으로부터 직격탄을 맞은 적이 있다</td>\n",
       "      <td>True</td>\n",
       "      <td>1921년 탬파 베이 허리케인(일명 타르폰 스프린트)은 탬파베이 지역을 강타한 주요...</td>\n",
       "    </tr>\n",
       "    <tr>\n",
       "      <th>2998</th>\n",
       "      <td>프레디 크루거를 연기한 배우가 죽었다</td>\n",
       "      <td>False</td>\n",
       "      <td>로버트 엔글런드(1947년 6월 6일 출생)는 미국 배우 목소리배우 가수 겸 감독으...</td>\n",
       "    </tr>\n",
       "    <tr>\n",
       "      <th>2999</th>\n",
       "      <td>같은 가족에 있는 카를플라워와 브로콜리</td>\n",
       "      <td>True</td>\n",
       "      <td>브라스리카 올레나는 배추, 브로콜리, 칼리플라워, 칼레, 브뤼셀러 스프라우트, 콜라...</td>\n",
       "    </tr>\n",
       "  </tbody>\n",
       "</table>\n",
       "</div>"
      ],
      "text/plain": [
       "                             question  answer  \\\n",
       "2995                인디언 토닉수는 토닉 물과 같다    True   \n",
       "2996           와일드 카드로 무노 게임을 끝낼 수 있다    True   \n",
       "2997  탄파 플로리다가 허리케인으로부터 직격탄을 맞은 적이 있다    True   \n",
       "2998             프레디 크루거를 연기한 배우가 죽었다   False   \n",
       "2999            같은 가족에 있는 카를플라워와 브로콜리    True   \n",
       "\n",
       "                                                passage  \n",
       "2995  토닉수(또는 인도 토닉수)는 퀴inine이 녹아 있는 탄산소프트 음료다. 원래 말라...  \n",
       "2996  최초로 마지막 카드('진출')를 없앤 선수가 상대 선수들이 보유한 카드의 손과 점수...  \n",
       "2997  1921년 탬파 베이 허리케인(일명 타르폰 스프린트)은 탬파베이 지역을 강타한 주요...  \n",
       "2998  로버트 엔글런드(1947년 6월 6일 출생)는 미국 배우 목소리배우 가수 겸 감독으...  \n",
       "2999  브라스리카 올레나는 배추, 브로콜리, 칼리플라워, 칼레, 브뤼셀러 스프라우트, 콜라...  "
      ]
     },
     "execution_count": 2,
     "metadata": {},
     "output_type": "execute_result"
    }
   ],
   "source": [
    "df= pd.read_csv('./trans_df.csv')\n",
    "df.tail()"
   ]
  },
  {
   "cell_type": "code",
   "execution_count": 3,
   "metadata": {},
   "outputs": [
    {
     "name": "stdout",
     "output_type": "stream",
     "text": [
      "        question  passage\n",
      "answer                   \n",
      "False       1156     1156\n",
      "True        1844     1844\n"
     ]
    }
   ],
   "source": [
    "print(df.groupby(df['answer']).count())"
   ]
  }
 ],
 "metadata": {
  "interpreter": {
   "hash": "d4d1e4263499bec80672ea0156c357c1ee493ec2b1c70f0acce89fc37c4a6abe"
  },
  "kernelspec": {
   "display_name": "Python 3.8.5 64-bit ('base': conda)",
   "language": "python",
   "name": "python3"
  },
  "language_info": {
   "codemirror_mode": {
    "name": "ipython",
    "version": 3
   },
   "file_extension": ".py",
   "mimetype": "text/x-python",
   "name": "python",
   "nbconvert_exporter": "python",
   "pygments_lexer": "ipython3",
   "version": "3.8.5"
  },
  "orig_nbformat": 4
 },
 "nbformat": 4,
 "nbformat_minor": 2
}
